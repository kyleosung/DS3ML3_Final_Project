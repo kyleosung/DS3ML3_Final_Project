{
 "cells": [
  {
   "cell_type": "code",
   "execution_count": 16,
   "metadata": {},
   "outputs": [],
   "source": [
    "# import sklearn\n",
    "# from sklearn.ensemble import RandomForestRegressor\n",
    "# from sklearn.model_selection import train_test_split\n",
    "\n",
    "import numpy as np\n",
    "# import matplotlib.pyplot as plt\n",
    "import pandas as pd\n",
    "\n",
    "# import chess\n",
    "\n",
    "import glob"
   ]
  },
  {
   "cell_type": "code",
   "execution_count": 17,
   "metadata": {},
   "outputs": [],
   "source": [
    "# def get_current_version():\n",
    "#     from pathlib import Path\n",
    "#     import pickle\n",
    "\n",
    "#     model_file_path = 'model_RF_1.pkl'\n",
    "#     counter = 1\n",
    "\n",
    "#     while Path(model_file_path).is_file(): # ensure that no files are overwritten\n",
    "#         counter += 1\n",
    "#         model_file_path = f'model_RF_{counter}.pkl'\n",
    "    \n",
    "#     return counter\n",
    "\n",
    "# MODEL_NUMBER = get_current_version()\n",
    "# MODEL_NUMBER"
   ]
  },
  {
   "cell_type": "code",
   "execution_count": 18,
   "metadata": {},
   "outputs": [],
   "source": [
    "path = \"../Data/DataTrain\"\n",
    "\n",
    "letters = 'a'\n",
    "csv_files = []\n",
    "\n",
    "for let in letters:\n",
    "    csv_files.extend(glob.glob(f'{path}/Chess_Jan_{let}*'))"
   ]
  },
  {
   "cell_type": "code",
   "execution_count": 19,
   "metadata": {},
   "outputs": [],
   "source": [
    "df_large = pd.concat(\n",
    "    (pd.read_csv(f,\n",
    "                 usecols=['board', 'cp', 'white_active'],#, 'white_elo', 'black_elo'], \n",
    "                 dtype = {'white_elo': 'uint16', 'black_elo': 'uint16', 'white_active': 'bool', 'cp': 'object'},\n",
    "                ) for f in csv_files), \n",
    "    ignore_index = True,\n",
    ")"
   ]
  },
  {
   "cell_type": "code",
   "execution_count": 20,
   "metadata": {},
   "outputs": [
    {
     "name": "stderr",
     "output_type": "stream",
     "text": [
      "100%|██████████| 2600000/2600000 [04:37<00:00, 9378.26it/s] \n"
     ]
    }
   ],
   "source": [
    "import chess_SK_lib as lib_SK\n",
    "\n",
    "X, y = lib_SK.preprocess_XY(df_large['board'], pd.to_numeric(df_large['cp'], errors='coerce'), df_large['white_active'])"
   ]
  },
  {
   "cell_type": "code",
   "execution_count": 21,
   "metadata": {},
   "outputs": [
    {
     "data": {
      "text/plain": [
       "(2600000, 74)"
      ]
     },
     "execution_count": 21,
     "metadata": {},
     "output_type": "execute_result"
    }
   ],
   "source": [
    "X.shape"
   ]
  },
  {
   "cell_type": "code",
   "execution_count": 22,
   "metadata": {},
   "outputs": [
    {
     "data": {
      "text/plain": [
       "['data_SK/data_y_a.joblib']"
      ]
     },
     "execution_count": 22,
     "metadata": {},
     "output_type": "execute_result"
    }
   ],
   "source": [
    "import joblib\n",
    "\n",
    "joblib.dump(X, 'data_SK/data_X_a.joblib', compress = 9)\n",
    "joblib.dump(y, 'data_SK/data_y_a.joblib', compress = 5)"
   ]
  }
 ],
 "metadata": {
  "kernelspec": {
   "display_name": ".venv",
   "language": "python",
   "name": "python3"
  },
  "language_info": {
   "codemirror_mode": {
    "name": "ipython",
    "version": 3
   },
   "file_extension": ".py",
   "mimetype": "text/x-python",
   "name": "python",
   "nbconvert_exporter": "python",
   "pygments_lexer": "ipython3",
   "version": "3.11.5"
  }
 },
 "nbformat": 4,
 "nbformat_minor": 2
}

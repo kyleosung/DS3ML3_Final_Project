{
 "cells": [
  {
   "cell_type": "code",
   "execution_count": null,
   "metadata": {},
   "outputs": [],
   "source": [
    "import sklearn\n",
    "from sklearn.ensemble import RandomForestRegressor\n",
    "from sklearn.model_selection import train_test_split\n",
    "\n",
    "import numpy as np\n",
    "import matplotlib.pyplot as plt\n",
    "import pandas as pd\n",
    "\n",
    "import chess\n",
    "\n",
    "import glob"
   ]
  },
  {
   "cell_type": "code",
   "execution_count": null,
   "metadata": {},
   "outputs": [],
   "source": [
    "import chess_SL_DT_lib as libDT"
   ]
  },
  {
   "cell_type": "code",
   "execution_count": null,
   "metadata": {},
   "outputs": [],
   "source": [
    "path = \"../Data/DataTrain\"\n",
    "\n",
    "letters = 'abcdefghi'\n",
    "\n",
    "csv_files = []\n",
    "\n",
    "for let in letters:\n",
    "    csv_files.extend(glob.glob(f'{path}/Chess_Jan_{let}*'))"
   ]
  },
  {
   "cell_type": "code",
   "execution_count": null,
   "metadata": {},
   "outputs": [],
   "source": [
    "df_large = pd.concat(\n",
    "    (pd.read_csv(f,\n",
    "                 usecols=['board', 'cp', 'white_active'],# 'white_elo', 'black_elo'], \n",
    "                 dtype = {'white_elo': 'uint16', 'black_elo': 'uint16', 'white_active': 'bool', 'cp': 'object'},\n",
    "                ) for f in csv_files), \n",
    "    ignore_index = True,\n",
    ")"
   ]
  },
  {
   "cell_type": "code",
   "execution_count": null,
   "metadata": {},
   "outputs": [],
   "source": [
    "# # Feature Variables\n",
    "# board = df_large['board']\n",
    "white_active = df_large['white_active']\n",
    "cp = pd.to_numeric(df_large['cp'], errors='coerce')\n",
    "\n",
    "X = []\n",
    "\n",
    "for i in range(len(cp)):\n",
    "\n",
    "    fen_str = df_large['board'][i]\n",
    "\n",
    "    if np.isnan(cp[i]) and white_active[i]:\n",
    "        cp[i] = 10\n",
    "    elif np.isnan(cp[i]) and not white_active[i]:\n",
    "        cp[i] = -10\n",
    "    elif cp[i] > 9:\n",
    "        cp[i] = 9\n",
    "    elif cp[i] < -9:\n",
    "        cp[i] = -9\n",
    "\n",
    "    piece_counts = libDT.get_number_of_pieces(fen_str)\n",
    "\n",
    "    inputs = np.concatenate((libDT.fen_str_to_1d_array(fen_str), piece_counts))\n",
    "\n",
    "    X.append(inputs)\n",
    "\n",
    "X = np.array(X, dtype='float32')\n",
    "\n",
    "# # Convert data to tensors\n",
    "# board_tensor = fen_str_to_3d_array(board)\n",
    "# white_active = np.array(white_active, dtype='float32')\n",
    "\n",
    "cp = np.array(cp, dtype='float32')"
   ]
  },
  {
   "cell_type": "code",
   "execution_count": null,
   "metadata": {},
   "outputs": [],
   "source": [
    "del df_large"
   ]
  },
  {
   "cell_type": "code",
   "execution_count": null,
   "metadata": {},
   "outputs": [],
   "source": [
    "import joblib\n",
    "\n",
    "joblib.dump(X, 'data_X.joblib', compress = 6)\n",
    "joblib.dump(cp, 'data_y.joblib', compress = 6)"
   ]
  },
  {
   "cell_type": "code",
   "execution_count": null,
   "metadata": {},
   "outputs": [],
   "source": [
    "X_loaded = joblib.load('data_X.joblib')\n",
    "y_loaded = joblib.load('data_y.joblib')"
   ]
  },
  {
   "cell_type": "code",
   "execution_count": null,
   "metadata": {},
   "outputs": [],
   "source": [
    "X_train, X_test, y_train, y_test = train_test_split(X_loaded, y_loaded, test_size = 0.2, random_state = 0)"
   ]
  },
  {
   "cell_type": "code",
   "execution_count": null,
   "metadata": {},
   "outputs": [],
   "source": [
    "model = RandomForestRegressor(\n",
    "        n_estimators = 25, \n",
    "        random_state = 0,\n",
    "        criterion = 'absolute_error', # L1 Loss for simplification\n",
    "        verbose = 1,\n",
    "        # n_jobs = 2, # run in parallel processing\n",
    "        max_features = 30, # 74 features, good rule of thumb is 1/3 for regression\n",
    ")\n",
    "model.fit(X_train, y_train)"
   ]
  },
  {
   "cell_type": "code",
   "execution_count": null,
   "metadata": {},
   "outputs": [],
   "source": [
    "version = libDT.get_current_version()\n",
    "version"
   ]
  },
  {
   "cell_type": "code",
   "execution_count": null,
   "metadata": {},
   "outputs": [],
   "source": [
    "import joblib\n",
    "\n",
    "filename = f'model_RF_{version}.joblib'\n",
    "\n",
    "joblib.dump(model, filename, compress=9)"
   ]
  },
  {
   "cell_type": "code",
   "execution_count": null,
   "metadata": {},
   "outputs": [],
   "source": [
    "model_loaded = joblib.load(filename)"
   ]
  },
  {
   "cell_type": "code",
   "execution_count": null,
   "metadata": {},
   "outputs": [],
   "source": [
    "y_pred = model.predict(X_test)"
   ]
  },
  {
   "cell_type": "code",
   "execution_count": null,
   "metadata": {},
   "outputs": [],
   "source": [
    "np.sum(np.abs(y_pred - y_test)) / len(y_test)"
   ]
  },
  {
   "cell_type": "code",
   "execution_count": null,
   "metadata": {},
   "outputs": [],
   "source": [
    "def predict_DT(model, fen, move_number=7, stochastic=True):\n",
    "\n",
    "    board = chess.Board(fen)\n",
    "    legal_moves_list = list(board.legal_moves)\n",
    "    evals_list = []\n",
    "    \n",
    "    for move in legal_moves_list:\n",
    "        \n",
    "        # is_capture = board.is_capture(move)\n",
    "\n",
    "        board.push(move)\n",
    "        fen_array = libDT.fen_str_to_1d_array(board.fen())\n",
    "        # print(fen_array.shape)\n",
    "\n",
    "        pieces_counts = libDT.get_number_of_pieces(board.fen())\n",
    "\n",
    "\n",
    "        inputs = np.concatenate((fen_array, pieces_counts))\n",
    "\n",
    "        inputs = inputs.reshape(1, -1)\n",
    "\n",
    "        eval_prediction = model.predict(inputs)\n",
    "\n",
    "        evals_list.append(eval_prediction)\n",
    "\n",
    "        if board.is_checkmate():\n",
    "            return move # Always make a move which gives checkmate if possible.\n",
    "\n",
    "        board.pop()\n",
    "\n",
    "        # New portion (added 2024-04-09)\n",
    "        if board.is_capture(move):\n",
    "            if board.turn:\n",
    "                evals_list[-1] += 0.5 # Modify to add piece value eventually\n",
    "            else:\n",
    "                evals_list[-1] -= 0.5 # Modify to add piece value eventually\n",
    "    \n",
    "\n",
    "    evals_list = np.array(evals_list)\n",
    "    # print(evals_list)\n",
    "    # print(np.array(legal_moves_list))\n",
    "\n",
    "    sorted_indices = np.argsort(evals_list)\n",
    "    \n",
    "    # print(sorted_indices)\n",
    "\n",
    "    if board.turn:\n",
    "        '''\n",
    "        if it's white's turn, we must reverse the array such that the highest evaluation is first\n",
    "        if it's black's turn, keep the array ascending such that the lowest evaluation for the white pieces is first\n",
    "        ''' \n",
    "        sorted_indices = sorted_indices[::-1]\n",
    "    \n",
    "    # print(np.array(legal_moves_list).shape)\n",
    "\n",
    "    # Use the sorted indices to sort legal_moves and evals_list\n",
    "    sorted_legal_moves = np.array(legal_moves_list)[sorted_indices]\n",
    "    sorted_evals_list = evals_list[sorted_indices]\n",
    "\n",
    "    if not stochastic: # if not using stochastic mode return best move\n",
    "        return sorted_legal_moves[0]\n",
    "\n",
    "    sample = np.random.random_sample()\n",
    "\n",
    "    # print(sample)\n",
    "    # print(sorted_legal_moves)\n",
    "\n",
    "    if sample <= 0.65 or move_number > 7: # 65% chance for best move\n",
    "        # print(f'playing best move')\n",
    "        return sorted_legal_moves[0]\n",
    "    elif sample <= 0.85 or move_number > 5: # 25% chance for second-best move\n",
    "        return sorted_legal_moves[1]\n",
    "    elif sample <= 0.975 or move_number > 3: #  7.5% chance for third-best move\n",
    "        return sorted_legal_moves[2]\n",
    "    else: # 2.5% chance for fourth-best move\n",
    "        return sorted_legal_moves[3]"
   ]
  }
 ],
 "metadata": {
  "kernelspec": {
   "display_name": ".venv",
   "language": "python",
   "name": "python3"
  },
  "language_info": {
   "codemirror_mode": {
    "name": "ipython",
    "version": 3
   },
   "file_extension": ".py",
   "mimetype": "text/x-python",
   "name": "python",
   "nbconvert_exporter": "python",
   "pygments_lexer": "ipython3",
   "version": "3.11.5"
  }
 },
 "nbformat": 4,
 "nbformat_minor": 2
}

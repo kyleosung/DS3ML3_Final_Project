{
 "cells": [
  {
   "cell_type": "code",
   "execution_count": 1,
   "metadata": {},
   "outputs": [],
   "source": [
    "import sklearn\n",
    "from sklearn.ensemble import RandomForestRegressor\n",
    "from sklearn.model_selection import train_test_split\n",
    "\n",
    "import numpy as np\n",
    "import matplotlib.pyplot as plt\n",
    "import pandas as pd\n",
    "\n",
    "import glob"
   ]
  },
  {
   "cell_type": "code",
   "execution_count": 2,
   "metadata": {},
   "outputs": [],
   "source": [
    "path = \"../Data/DataTrain\"\n",
    "\n",
    "letters = 'abcdefghij'\n",
    "\n",
    "csv_files = []\n",
    "\n",
    "for let in letters:\n",
    "    csv_files.extend(glob.glob(f'{path}/Chess_Jan_{let}*'))\n",
    "\n"
   ]
  },
  {
   "cell_type": "code",
   "execution_count": 3,
   "metadata": {},
   "outputs": [],
   "source": [
    "df_large = pd.concat(\n",
    "    (pd.read_csv(f,\n",
    "                 usecols=['board', 'cp', 'white_active', 'white_elo', 'black_elo'], \n",
    "                 dtype = {'white_elo': 'uint16', 'black_elo': 'uint16', 'white_active': 'bool', 'cp': 'object'},\n",
    "                ) for f in csv_files), \n",
    "    ignore_index = True,\n",
    ")"
   ]
  },
  {
   "cell_type": "code",
   "execution_count": 4,
   "metadata": {},
   "outputs": [],
   "source": [
    "def fen_str_to_1d_array(fen):\n",
    "    \"\"\"\n",
    "    Converts a FEN string representation of a chess board to a 1-d vector array representation.\n",
    "\n",
    "    Args:\n",
    "        fen (str): The FEN string representing the chess board.\n",
    "\n",
    "    Returns:\n",
    "        np.ndarray: A array vector representation of the chess board.\n",
    "\n",
    "    Example:\n",
    "        >>> fen_str_to_flat_tensor('rnbqkbnr/pppppppp/8/8/8/8/PPPPPPPP/RNBQKBNR w KQkq - 0 1')\n",
    "        tensor([[ -4.,  -2.,  -3.,  -5.,  -6.,  -3.,  -2.,  -4.],\n",
    "                [ -1.,  -1.,  -1.,  -1.,  -1.,  -1.,  -1.,  -1.],\n",
    "                [  0.,   0.,   0.,   0.,   0.,   0.,   0.,   0.],\n",
    "                [  0.,   0.,   0.,   0.,   0.,   0.,   0.,   0.],\n",
    "                [  0.,   0.,   0.,   0.,   0.,   0.,   0.,   0.],\n",
    "                [  0.,   0.,   0.,   0.,   0.,   0.,   0.,   0.],\n",
    "                [  1.,   1.,   1.,   1.,   1.,   1.,   1.,   1.],\n",
    "                [  4.,   2.,   3.,   5.,   6.,   3.,   2.,   4.]])\n",
    "    \"\"\"    \n",
    "    # Define a mapping from pieces to integers\n",
    "    piece_to_int = {\n",
    "        'P': 1, 'N': 2, 'B': 3, 'R': 4, 'Q': 5, 'K': 6,\n",
    "        'p': -1, 'n': -2, 'b': -3, 'r': -4, 'q': -5, 'k': -6,\n",
    "    }\n",
    "\n",
    "    # Split the FEN string into parts ## 'rnbqkbnr/pppppppp/8/8/8/8/PPPPPPPP/RNBQKBNR w KQkq - 0 1'\n",
    "    parts = fen.split(' ')\n",
    "    ranks = parts[0].split('/') # Only process the board position (the first part)\n",
    "\n",
    "    # Convert the ranks to a list of integers\n",
    "    board = []\n",
    "    for rank in ranks:\n",
    "        for char in rank:\n",
    "            if char.isdigit():\n",
    "                # If the character is a digit, add that many zeros to the board\n",
    "                board.extend([0] * int(char))\n",
    "            else:\n",
    "                # Otherwise, add the integer representation of the piece to the board\n",
    "                board.append(piece_to_int[char])\n",
    "\n",
    "    # Convert the board to a tensor\n",
    "    board_array = np.array(board, dtype='float32')\n",
    "\n",
    "    return board_array"
   ]
  },
  {
   "cell_type": "code",
   "execution_count": 5,
   "metadata": {},
   "outputs": [],
   "source": [
    "# # Feature Variables\n",
    "# board = df_large['board']\n",
    "white_active = df_large['white_active']\n",
    "cp = pd.to_numeric(df_large['cp'], errors='coerce')\n",
    "\n",
    "X = []\n",
    "\n",
    "for i in range(len(cp)):\n",
    "\n",
    "    if np.isnan(cp[i]) and white_active[i]:\n",
    "        cp[i] = 10\n",
    "    elif np.isnan(cp[i]) and not white_active[i]:\n",
    "        cp[i] = -10\n",
    "    elif cp[i] > 9:\n",
    "        cp[i] = 9\n",
    "    elif cp[i] < -9:\n",
    "        cp[i] = -9\n",
    "\n",
    "    X.append(fen_str_to_1d_array(df_large['board'][i]))\n",
    "\n",
    "X = np.array(X, dtype='float32')\n",
    "\n",
    "# # Convert data to tensors\n",
    "# board_tensor = fen_str_to_3d_array(board)\n",
    "# white_active = np.array(white_active, dtype='float32')\n",
    "\n",
    "cp = np.array(cp, dtype='float32')"
   ]
  },
  {
   "cell_type": "code",
   "execution_count": 6,
   "metadata": {},
   "outputs": [
    {
     "data": {
      "text/html": [
       "<div>\n",
       "<style scoped>\n",
       "    .dataframe tbody tr th:only-of-type {\n",
       "        vertical-align: middle;\n",
       "    }\n",
       "\n",
       "    .dataframe tbody tr th {\n",
       "        vertical-align: top;\n",
       "    }\n",
       "\n",
       "    .dataframe thead th {\n",
       "        text-align: right;\n",
       "    }\n",
       "</style>\n",
       "<table border=\"1\" class=\"dataframe\">\n",
       "  <thead>\n",
       "    <tr style=\"text-align: right;\">\n",
       "      <th></th>\n",
       "      <th>white_elo</th>\n",
       "      <th>black_elo</th>\n",
       "      <th>cp</th>\n",
       "      <th>white_active</th>\n",
       "      <th>board</th>\n",
       "    </tr>\n",
       "  </thead>\n",
       "  <tbody>\n",
       "    <tr>\n",
       "      <th>0</th>\n",
       "      <td>1702</td>\n",
       "      <td>1628</td>\n",
       "      <td>0.1</td>\n",
       "      <td>True</td>\n",
       "      <td>rnbqkbnr/pppppppp/8/8/8/8/PPPPPPPP/RNBQKBNR w ...</td>\n",
       "    </tr>\n",
       "    <tr>\n",
       "      <th>1</th>\n",
       "      <td>1702</td>\n",
       "      <td>1628</td>\n",
       "      <td>0.12</td>\n",
       "      <td>False</td>\n",
       "      <td>rnbqkbnr/pppppppp/8/8/4P3/8/PPPP1PPP/RNBQKBNR ...</td>\n",
       "    </tr>\n",
       "    <tr>\n",
       "      <th>2</th>\n",
       "      <td>1702</td>\n",
       "      <td>1628</td>\n",
       "      <td>0.37</td>\n",
       "      <td>True</td>\n",
       "      <td>rnbqkbnr/pppp1ppp/8/4p3/4P3/8/PPPP1PPP/RNBQKBN...</td>\n",
       "    </tr>\n",
       "    <tr>\n",
       "      <th>3</th>\n",
       "      <td>1702</td>\n",
       "      <td>1628</td>\n",
       "      <td>0.23</td>\n",
       "      <td>False</td>\n",
       "      <td>rnbqkbnr/pppp1ppp/8/4p3/4P3/5N2/PPPP1PPP/RNBQK...</td>\n",
       "    </tr>\n",
       "    <tr>\n",
       "      <th>4</th>\n",
       "      <td>1702</td>\n",
       "      <td>1628</td>\n",
       "      <td>0.15</td>\n",
       "      <td>True</td>\n",
       "      <td>r1bqkbnr/pppp1ppp/2n5/4p3/4P3/5N2/PPPP1PPP/RNB...</td>\n",
       "    </tr>\n",
       "    <tr>\n",
       "      <th>...</th>\n",
       "      <td>...</td>\n",
       "      <td>...</td>\n",
       "      <td>...</td>\n",
       "      <td>...</td>\n",
       "      <td>...</td>\n",
       "    </tr>\n",
       "    <tr>\n",
       "      <th>25999995</th>\n",
       "      <td>1104</td>\n",
       "      <td>1213</td>\n",
       "      <td>NaN</td>\n",
       "      <td>False</td>\n",
       "      <td>1kr3nr/p4p2/3p2pp/4p3/4P1PP/1p6/2p5/2K5 b - - ...</td>\n",
       "    </tr>\n",
       "    <tr>\n",
       "      <th>25999996</th>\n",
       "      <td>1104</td>\n",
       "      <td>1213</td>\n",
       "      <td>NaN</td>\n",
       "      <td>True</td>\n",
       "      <td>1kr3nr/p4p2/3p2pp/4p3/4P1PP/8/1pp5/2K5 w - - 0 37</td>\n",
       "    </tr>\n",
       "    <tr>\n",
       "      <th>25999997</th>\n",
       "      <td>1104</td>\n",
       "      <td>1213</td>\n",
       "      <td>NaN</td>\n",
       "      <td>False</td>\n",
       "      <td>1kr3nr/p4p2/3p2pp/4p3/4P1PP/8/1Kp5/8 b - - 0 37</td>\n",
       "    </tr>\n",
       "    <tr>\n",
       "      <th>25999998</th>\n",
       "      <td>1104</td>\n",
       "      <td>1213</td>\n",
       "      <td>NaN</td>\n",
       "      <td>True</td>\n",
       "      <td>1kr3nr/p4p2/3p2pp/4p3/4P1PP/8/1K6/2q5 w - - 0 38</td>\n",
       "    </tr>\n",
       "    <tr>\n",
       "      <th>25999999</th>\n",
       "      <td>1104</td>\n",
       "      <td>1213</td>\n",
       "      <td>NaN</td>\n",
       "      <td>False</td>\n",
       "      <td>1kr3nr/p4p2/3p2pp/4p3/4P1PP/1K6/8/2q5 b - - 1 38</td>\n",
       "    </tr>\n",
       "  </tbody>\n",
       "</table>\n",
       "<p>26000000 rows × 5 columns</p>\n",
       "</div>"
      ],
      "text/plain": [
       "          white_elo  black_elo    cp  white_active  \\\n",
       "0              1702       1628   0.1          True   \n",
       "1              1702       1628  0.12         False   \n",
       "2              1702       1628  0.37          True   \n",
       "3              1702       1628  0.23         False   \n",
       "4              1702       1628  0.15          True   \n",
       "...             ...        ...   ...           ...   \n",
       "25999995       1104       1213   NaN         False   \n",
       "25999996       1104       1213   NaN          True   \n",
       "25999997       1104       1213   NaN         False   \n",
       "25999998       1104       1213   NaN          True   \n",
       "25999999       1104       1213   NaN         False   \n",
       "\n",
       "                                                      board  \n",
       "0         rnbqkbnr/pppppppp/8/8/8/8/PPPPPPPP/RNBQKBNR w ...  \n",
       "1         rnbqkbnr/pppppppp/8/8/4P3/8/PPPP1PPP/RNBQKBNR ...  \n",
       "2         rnbqkbnr/pppp1ppp/8/4p3/4P3/8/PPPP1PPP/RNBQKBN...  \n",
       "3         rnbqkbnr/pppp1ppp/8/4p3/4P3/5N2/PPPP1PPP/RNBQK...  \n",
       "4         r1bqkbnr/pppp1ppp/2n5/4p3/4P3/5N2/PPPP1PPP/RNB...  \n",
       "...                                                     ...  \n",
       "25999995  1kr3nr/p4p2/3p2pp/4p3/4P1PP/1p6/2p5/2K5 b - - ...  \n",
       "25999996  1kr3nr/p4p2/3p2pp/4p3/4P1PP/8/1pp5/2K5 w - - 0 37  \n",
       "25999997    1kr3nr/p4p2/3p2pp/4p3/4P1PP/8/1Kp5/8 b - - 0 37  \n",
       "25999998   1kr3nr/p4p2/3p2pp/4p3/4P1PP/8/1K6/2q5 w - - 0 38  \n",
       "25999999   1kr3nr/p4p2/3p2pp/4p3/4P1PP/1K6/8/2q5 b - - 1 38  \n",
       "\n",
       "[26000000 rows x 5 columns]"
      ]
     },
     "execution_count": 6,
     "metadata": {},
     "output_type": "execute_result"
    }
   ],
   "source": [
    "df_large"
   ]
  },
  {
   "cell_type": "code",
   "execution_count": 7,
   "metadata": {},
   "outputs": [],
   "source": [
    "for i in range(len(cp)):\n",
    "\n",
    "    if np.isnan(cp[i]) and white_active[i]:\n",
    "        cp[i] = 10\n",
    "    elif np.isnan(cp[i]) and not white_active[i]:\n",
    "        cp[i] = -10\n",
    "    elif cp[i] > 9:\n",
    "        cp[i] = 9\n",
    "    elif cp[i] < -9:\n",
    "        cp[i] = -9"
   ]
  },
  {
   "cell_type": "code",
   "execution_count": 8,
   "metadata": {},
   "outputs": [],
   "source": [
    "X_train, X_test, y_train, y_test = train_test_split(X, cp, test_size=0.2, random_state=42)"
   ]
  },
  {
   "cell_type": "code",
   "execution_count": 9,
   "metadata": {},
   "outputs": [
    {
     "data": {
      "text/plain": [
       "(20800000, 64)"
      ]
     },
     "execution_count": 9,
     "metadata": {},
     "output_type": "execute_result"
    }
   ],
   "source": [
    "X_train.shape"
   ]
  },
  {
   "cell_type": "code",
   "execution_count": 10,
   "metadata": {},
   "outputs": [
    {
     "data": {
      "text/plain": [
       "(20800000,)"
      ]
     },
     "execution_count": 10,
     "metadata": {},
     "output_type": "execute_result"
    }
   ],
   "source": [
    "y_train.shape"
   ]
  },
  {
   "cell_type": "code",
   "execution_count": 11,
   "metadata": {},
   "outputs": [],
   "source": [
    "model = RandomForestRegressor(n_estimators=50, random_state=42)\n",
    "model.fit(X_train, y_train)"
   ]
  },
  {
   "cell_type": "code",
   "execution_count": null,
   "metadata": {},
   "outputs": [],
   "source": [
    "import pickle\n",
    "\n",
    "filename = f'model_RF_1.pkl'\n",
    "\n",
    "pickle.dump(model, open(filename, 'wb'))"
   ]
  },
  {
   "cell_type": "code",
   "execution_count": null,
   "metadata": {},
   "outputs": [],
   "source": [
    "y_pred = model.predict(X_test)"
   ]
  },
  {
   "cell_type": "code",
   "execution_count": null,
   "metadata": {},
   "outputs": [],
   "source": [
    "np.sum(np.abs(y_pred - y_test)) / len(y_test)"
   ]
  },
  {
   "cell_type": "code",
   "execution_count": null,
   "metadata": {},
   "outputs": [],
   "source": [
    "from tqdm import tqdm\n",
    "\n",
    "# Your loop\n",
    "for i in tqdm(range(10)):\n",
    "    # Code inside the loop\n",
    "    # ...\n",
    "    pass\n"
   ]
  }
 ],
 "metadata": {
  "kernelspec": {
   "display_name": ".venv",
   "language": "python",
   "name": "python3"
  },
  "language_info": {
   "codemirror_mode": {
    "name": "ipython",
    "version": 3
   },
   "file_extension": ".py",
   "mimetype": "text/x-python",
   "name": "python",
   "nbconvert_exporter": "python",
   "pygments_lexer": "ipython3",
   "version": "3.11.5"
  }
 },
 "nbformat": 4,
 "nbformat_minor": 2
}

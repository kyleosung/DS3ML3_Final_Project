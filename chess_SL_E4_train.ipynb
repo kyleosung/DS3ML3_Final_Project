{
 "cells": [
  {
   "cell_type": "code",
   "execution_count": 1,
   "metadata": {},
   "outputs": [],
   "source": [
    "import glob\n",
    "import chess_SL_E4_lib as lib\n",
    "import torch\n",
    "import torch.nn as nn\n",
    "import torch.optim as optim\n",
    "from torch.utils.data import DataLoader\n",
    "import chess\n",
    "import numpy as np"
   ]
  },
  {
   "cell_type": "code",
   "execution_count": 2,
   "metadata": {},
   "outputs": [
    {
     "data": {
      "text/plain": [
       "tensor([[-4., -2., -3., -5., -6., -3., -2., -4.],\n",
       "        [-1., -1., -1., -1., -1., -1., -1., -1.],\n",
       "        [ 0.,  0.,  0.,  0.,  0.,  0.,  0.,  0.],\n",
       "        [ 0.,  0.,  0.,  0.,  0.,  0.,  0.,  0.],\n",
       "        [ 0.,  0.,  0.,  0.,  0.,  0.,  0.,  0.],\n",
       "        [ 0.,  0.,  0.,  0.,  0.,  0.,  0.,  0.],\n",
       "        [ 1.,  1.,  1.,  1.,  1.,  1.,  1.,  1.],\n",
       "        [ 4.,  2.,  3.,  5.,  6.,  3.,  2.,  4.]])"
      ]
     },
     "execution_count": 2,
     "metadata": {},
     "output_type": "execute_result"
    }
   ],
   "source": [
    "lib.fen_str_to_flat_tensor('rnbqkbnr/pppppppp/8/8/8/8/PPPPPPPP/RNBQKBNR w KQkq - 0 1')"
   ]
  },
  {
   "cell_type": "code",
   "execution_count": 3,
   "metadata": {},
   "outputs": [
    {
     "data": {
      "text/plain": [
       "tensor([[[ 0.,  0.,  0.,  0.,  0.,  0.,  0.,  0.],\n",
       "         [-1., -1., -1., -1., -1., -1., -1., -1.],\n",
       "         [ 0.,  0.,  0.,  0.,  0.,  0.,  0.,  0.],\n",
       "         [ 0.,  0.,  0.,  0.,  0.,  0.,  0.,  0.],\n",
       "         [ 0.,  0.,  0.,  0.,  0.,  0.,  0.,  0.],\n",
       "         [ 0.,  0.,  0.,  0.,  0.,  0.,  0.,  0.],\n",
       "         [ 1.,  1.,  1.,  1.,  1.,  1.,  1.,  1.],\n",
       "         [ 0.,  0.,  0.,  0.,  0.,  0.,  0.,  0.]],\n",
       "\n",
       "        [[ 0., -2.,  0.,  0.,  0.,  0., -2.,  0.],\n",
       "         [ 0.,  0.,  0.,  0.,  0.,  0.,  0.,  0.],\n",
       "         [ 0.,  0.,  0.,  0.,  0.,  0.,  0.,  0.],\n",
       "         [ 0.,  0.,  0.,  0.,  0.,  0.,  0.,  0.],\n",
       "         [ 0.,  0.,  0.,  0.,  0.,  0.,  0.,  0.],\n",
       "         [ 0.,  0.,  0.,  0.,  0.,  0.,  0.,  0.],\n",
       "         [ 0.,  0.,  0.,  0.,  0.,  0.,  0.,  0.],\n",
       "         [ 0.,  2.,  0.,  0.,  0.,  0.,  2.,  0.]],\n",
       "\n",
       "        [[ 0.,  0., -3.,  0.,  0., -3.,  0.,  0.],\n",
       "         [ 0.,  0.,  0.,  0.,  0.,  0.,  0.,  0.],\n",
       "         [ 0.,  0.,  0.,  0.,  0.,  0.,  0.,  0.],\n",
       "         [ 0.,  0.,  0.,  0.,  0.,  0.,  0.,  0.],\n",
       "         [ 0.,  0.,  0.,  0.,  0.,  0.,  0.,  0.],\n",
       "         [ 0.,  0.,  0.,  0.,  0.,  0.,  0.,  0.],\n",
       "         [ 0.,  0.,  0.,  0.,  0.,  0.,  0.,  0.],\n",
       "         [ 0.,  0.,  3.,  0.,  0.,  3.,  0.,  0.]],\n",
       "\n",
       "        [[-4.,  0.,  0.,  0.,  0.,  0.,  0., -4.],\n",
       "         [ 0.,  0.,  0.,  0.,  0.,  0.,  0.,  0.],\n",
       "         [ 0.,  0.,  0.,  0.,  0.,  0.,  0.,  0.],\n",
       "         [ 0.,  0.,  0.,  0.,  0.,  0.,  0.,  0.],\n",
       "         [ 0.,  0.,  0.,  0.,  0.,  0.,  0.,  0.],\n",
       "         [ 0.,  0.,  0.,  0.,  0.,  0.,  0.,  0.],\n",
       "         [ 0.,  0.,  0.,  0.,  0.,  0.,  0.,  0.],\n",
       "         [ 4.,  0.,  0.,  0.,  0.,  0.,  0.,  4.]],\n",
       "\n",
       "        [[ 0.,  0.,  0., -5.,  0.,  0.,  0.,  0.],\n",
       "         [ 0.,  0.,  0.,  0.,  0.,  0.,  0.,  0.],\n",
       "         [ 0.,  0.,  0.,  0.,  0.,  0.,  0.,  0.],\n",
       "         [ 0.,  0.,  0.,  0.,  0.,  0.,  0.,  0.],\n",
       "         [ 0.,  0.,  0.,  0.,  0.,  0.,  0.,  0.],\n",
       "         [ 0.,  0.,  0.,  0.,  0.,  0.,  0.,  0.],\n",
       "         [ 0.,  0.,  0.,  0.,  0.,  0.,  0.,  0.],\n",
       "         [ 0.,  0.,  0.,  5.,  0.,  0.,  0.,  0.]],\n",
       "\n",
       "        [[ 0.,  0.,  0.,  0., -6.,  0.,  0.,  0.],\n",
       "         [ 0.,  0.,  0.,  0.,  0.,  0.,  0.,  0.],\n",
       "         [ 0.,  0.,  0.,  0.,  0.,  0.,  0.,  0.],\n",
       "         [ 0.,  0.,  0.,  0.,  0.,  0.,  0.,  0.],\n",
       "         [ 0.,  0.,  0.,  0.,  0.,  0.,  0.,  0.],\n",
       "         [ 0.,  0.,  0.,  0.,  0.,  0.,  0.,  0.],\n",
       "         [ 0.,  0.,  0.,  0.,  0.,  0.,  0.,  0.],\n",
       "         [ 0.,  0.,  0.,  0.,  6.,  0.,  0.,  0.]]])"
      ]
     },
     "execution_count": 3,
     "metadata": {},
     "output_type": "execute_result"
    }
   ],
   "source": [
    "lib.fen_str_to_3d_tensor('rnbqkbnr/pppppppp/8/8/8/8/PPPPPPPP/RNBQKBNR w KQkq - 0 1')"
   ]
  },
  {
   "cell_type": "code",
   "execution_count": 4,
   "metadata": {},
   "outputs": [],
   "source": [
    "path = \"../Data/DataTrain\"\n",
    "csv_files1 = glob.glob(f'{path}/Chess_Jan_a*') + glob.glob(f'{path}/Chess_Jan_b*') + glob.glob(f'{path}/Chess_Jan_c*') + glob.glob(f'{path}/Chess_Jan_d*')\n",
    "csv_files2 = glob.glob(f'{path}/Chess_Jan_d*') + glob.glob(f'{path}/Chess_Jan_e*') + glob.glob(f'{path}/Chess_Jan_f*') + glob.glob(f'{path}/Chess_Jan_g*')\n",
    "device = torch.device('cuda' if torch.cuda.is_available() else 'cpu')"
   ]
  },
  {
   "cell_type": "markdown",
   "metadata": {},
   "source": [
    "Models Trained\n",
    "- V1 -> \n",
    "- V2 -> \n",
    "- V3 -> \n",
    "- V4 -> \n",
    "\n",
    "- E1 -> Epochs: 200, SGD(Learning Rate: 0.030, Momentum = 0.9), Loss: L1Loss, Training: \"a*\", Validation: \"a*\"\n",
    "- E2 -> Epochs: 200, SGD(Learning Rate: 0.035, Momentum = 0.9), Loss: L1Loss, Training: \"a*\", Validation: \"b*\"\n",
    "- E3 -> Epochs: 75, Adam(Learning Rate: 0.006, Mometum = 0.9), Loss: L1Loss, Training: \"a|b*\", Validation: \"c|d*\"\n",
    "- E3.1 -> Epochs: 50, Adam(Learning Rate: 0.006, Mometum = 0.9), Loss: L1Loss, Training: \"a|b|c*\", Validation: \"d|e|f*\"\n",
    "- E3.2 -> Epochs: 40, Adam(Learning Rate: 0.006, Mometum = 0.9), Loss: L1Loss, Training: \"a|b|c|d*\", Validation: \"d|e|f|g*\"\n",
    "- E4.1 -> "
   ]
  },
  {
   "cell_type": "code",
   "execution_count": 5,
   "metadata": {},
   "outputs": [
    {
     "name": "stdout",
     "output_type": "stream",
     "text": [
      "Begin Training!\n",
      "torch.Size([4000, 6, 8, 8])\n",
      "x shape: torch.Size([4000, 576]), scalar_input shape: torch.Size([4000, 2])\n",
      "torch.Size([4000, 578])\n",
      "torch.Size([4000, 6, 8, 8])\n",
      "x shape: torch.Size([4000, 576]), scalar_input shape: torch.Size([4000, 2])\n",
      "torch.Size([4000, 578])\n",
      "torch.Size([4000, 6, 8, 8])\n",
      "x shape: torch.Size([4000, 576]), scalar_input shape: torch.Size([4000, 2])\n",
      "torch.Size([4000, 578])\n",
      "torch.Size([4000, 6, 8, 8])\n",
      "x shape: torch.Size([4000, 576]), scalar_input shape: torch.Size([4000, 2])\n",
      "torch.Size([4000, 578])\n",
      "torch.Size([4000, 6, 8, 8])\n",
      "x shape: torch.Size([4000, 576]), scalar_input shape: torch.Size([4000, 2])\n",
      "torch.Size([4000, 578])\n",
      "torch.Size([4000, 6, 8, 8])\n",
      "x shape: torch.Size([4000, 576]), scalar_input shape: torch.Size([4000, 2])\n",
      "torch.Size([4000, 578])\n",
      "torch.Size([4000, 6, 8, 8])\n",
      "x shape: torch.Size([4000, 576]), scalar_input shape: torch.Size([4000, 2])\n",
      "torch.Size([4000, 578])\n",
      "torch.Size([4000, 6, 8, 8])\n",
      "x shape: torch.Size([4000, 576]), scalar_input shape: torch.Size([4000, 2])\n",
      "torch.Size([4000, 578])\n",
      "torch.Size([4000, 6, 8, 8])\n",
      "x shape: torch.Size([4000, 576]), scalar_input shape: torch.Size([4000, 2])\n",
      "torch.Size([4000, 578])\n",
      "torch.Size([4000, 6, 8, 8])\n",
      "x shape: torch.Size([4000, 576]), scalar_input shape: torch.Size([4000, 2])\n",
      "torch.Size([4000, 578])\n",
      "torch.Size([4000, 6, 8, 8])\n",
      "x shape: torch.Size([4000, 576]), scalar_input shape: torch.Size([4000, 2])\n",
      "torch.Size([4000, 578])\n",
      "torch.Size([4000, 6, 8, 8])\n",
      "x shape: torch.Size([4000, 576]), scalar_input shape: torch.Size([4000, 2])\n",
      "torch.Size([4000, 578])\n",
      "torch.Size([4000, 6, 8, 8])\n",
      "x shape: torch.Size([4000, 576]), scalar_input shape: torch.Size([4000, 2])\n",
      "torch.Size([4000, 578])\n",
      "torch.Size([4000, 6, 8, 8])\n",
      "x shape: torch.Size([4000, 576]), scalar_input shape: torch.Size([4000, 2])\n",
      "torch.Size([4000, 578])\n",
      "torch.Size([4000, 6, 8, 8])\n",
      "x shape: torch.Size([4000, 576]), scalar_input shape: torch.Size([4000, 2])\n",
      "torch.Size([4000, 578])\n",
      "torch.Size([4000, 6, 8, 8])\n",
      "x shape: torch.Size([4000, 576]), scalar_input shape: torch.Size([4000, 2])\n",
      "torch.Size([4000, 578])\n",
      "torch.Size([4000, 6, 8, 8])\n",
      "x shape: torch.Size([4000, 576]), scalar_input shape: torch.Size([4000, 2])\n",
      "torch.Size([4000, 578])\n",
      "torch.Size([4000, 6, 8, 8])\n",
      "x shape: torch.Size([4000, 576]), scalar_input shape: torch.Size([4000, 2])\n",
      "torch.Size([4000, 578])\n",
      "torch.Size([4000, 6, 8, 8])\n",
      "x shape: torch.Size([4000, 576]), scalar_input shape: torch.Size([4000, 2])\n",
      "torch.Size([4000, 578])\n",
      "torch.Size([4000, 6, 8, 8])\n",
      "x shape: torch.Size([4000, 576]), scalar_input shape: torch.Size([4000, 2])\n",
      "torch.Size([4000, 578])\n",
      "torch.Size([4000, 6, 8, 8])\n",
      "x shape: torch.Size([4000, 576]), scalar_input shape: torch.Size([4000, 2])\n",
      "torch.Size([4000, 578])\n",
      "torch.Size([4000, 6, 8, 8])\n",
      "x shape: torch.Size([4000, 576]), scalar_input shape: torch.Size([4000, 2])\n",
      "torch.Size([4000, 578])\n",
      "torch.Size([4000, 6, 8, 8])\n",
      "x shape: torch.Size([4000, 576]), scalar_input shape: torch.Size([4000, 2])\n",
      "torch.Size([4000, 578])\n",
      "torch.Size([4000, 6, 8, 8])\n",
      "x shape: torch.Size([4000, 576]), scalar_input shape: torch.Size([4000, 2])\n",
      "torch.Size([4000, 578])\n",
      "torch.Size([4000, 6, 8, 8])\n",
      "x shape: torch.Size([4000, 576]), scalar_input shape: torch.Size([4000, 2])\n",
      "torch.Size([4000, 578])\n",
      "torch.Size([4000, 6, 8, 8])\n",
      "x shape: torch.Size([4000, 576]), scalar_input shape: torch.Size([4000, 2])\n",
      "torch.Size([4000, 578])\n",
      "torch.Size([4000, 6, 8, 8])\n",
      "x shape: torch.Size([4000, 576]), scalar_input shape: torch.Size([4000, 2])\n",
      "torch.Size([4000, 578])\n",
      "torch.Size([4000, 6, 8, 8])\n",
      "x shape: torch.Size([4000, 576]), scalar_input shape: torch.Size([4000, 2])\n",
      "torch.Size([4000, 578])\n",
      "torch.Size([4000, 6, 8, 8])\n",
      "x shape: torch.Size([4000, 576]), scalar_input shape: torch.Size([4000, 2])\n",
      "torch.Size([4000, 578])\n",
      "torch.Size([4000, 6, 8, 8])\n",
      "x shape: torch.Size([4000, 576]), scalar_input shape: torch.Size([4000, 2])\n",
      "torch.Size([4000, 578])\n",
      "torch.Size([4000, 6, 8, 8])\n",
      "x shape: torch.Size([4000, 576]), scalar_input shape: torch.Size([4000, 2])\n",
      "torch.Size([4000, 578])\n",
      "torch.Size([4000, 6, 8, 8])\n",
      "x shape: torch.Size([4000, 576]), scalar_input shape: torch.Size([4000, 2])\n",
      "torch.Size([4000, 578])\n",
      "torch.Size([4000, 6, 8, 8])\n",
      "x shape: torch.Size([4000, 576]), scalar_input shape: torch.Size([4000, 2])\n",
      "torch.Size([4000, 578])\n",
      "torch.Size([4000, 6, 8, 8])\n",
      "x shape: torch.Size([4000, 576]), scalar_input shape: torch.Size([4000, 2])\n",
      "torch.Size([4000, 578])\n",
      "torch.Size([4000, 6, 8, 8])\n",
      "x shape: torch.Size([4000, 576]), scalar_input shape: torch.Size([4000, 2])\n",
      "torch.Size([4000, 578])\n",
      "torch.Size([4000, 6, 8, 8])\n",
      "x shape: torch.Size([4000, 576]), scalar_input shape: torch.Size([4000, 2])\n",
      "torch.Size([4000, 578])\n",
      "torch.Size([4000, 6, 8, 8])\n",
      "x shape: torch.Size([4000, 576]), scalar_input shape: torch.Size([4000, 2])\n",
      "torch.Size([4000, 578])\n",
      "torch.Size([4000, 6, 8, 8])\n",
      "x shape: torch.Size([4000, 576]), scalar_input shape: torch.Size([4000, 2])\n",
      "torch.Size([4000, 578])\n",
      "Manual Stop: Finished Training Early!\n",
      "Finished Training!\n"
     ]
    }
   ],
   "source": [
    "# Create a dataset\n",
    "dataset1 = lib.ChessIterableDataset(csv_files1, chunksize = 50000)\n",
    "dataset2 = lib.ChessIterableDataset(csv_files2, chunksize = 50000)\n",
    "\n",
    "# Create a data loader\n",
    "train_data_loader = DataLoader(dataset1, batch_size = 4000)\n",
    "val_data_loader = DataLoader(dataset2, batch_size = 4000)\n",
    "\n",
    "# Create a model\n",
    "model = lib.EvalNet()\n",
    "model = model.to(device)\n",
    "\n",
    "criterion = nn.L1Loss() # nn.MSELoss()\n",
    "# optimizer = optim.SGD(model.parameters(), lr=0.035, momentum=0.9)\n",
    "\n",
    "optimizer = optim.Adam(model.parameters(), lr=0.006)\n",
    "\n",
    "# Train the model\n",
    "training_loss_history, validation_loss_history = lib.train(model, train_data_loader, val_data_loader, criterion, optimizer, num_epochs=40)\n"
   ]
  },
  {
   "cell_type": "code",
   "execution_count": null,
   "metadata": {},
   "outputs": [
    {
     "ename": "NameError",
     "evalue": "name 'training_loss_history' is not defined",
     "output_type": "error",
     "traceback": [
      "\u001b[1;31m---------------------------------------------------------------------------\u001b[0m",
      "\u001b[1;31mNameError\u001b[0m                                 Traceback (most recent call last)",
      "Cell \u001b[1;32mIn[4], line 6\u001b[0m\n\u001b[0;32m      1\u001b[0m torch\u001b[38;5;241m.\u001b[39msave(model, \u001b[38;5;124m'\u001b[39m\u001b[38;5;124mmodel_E3-2.pth\u001b[39m\u001b[38;5;124m'\u001b[39m)\n\u001b[0;32m      3\u001b[0m \u001b[38;5;28;01mimport\u001b[39;00m \u001b[38;5;21;01mmatplotlib\u001b[39;00m\u001b[38;5;21;01m.\u001b[39;00m\u001b[38;5;21;01mpyplot\u001b[39;00m \u001b[38;5;28;01mas\u001b[39;00m \u001b[38;5;21;01mplt\u001b[39;00m\n\u001b[1;32m----> 6\u001b[0m plt\u001b[38;5;241m.\u001b[39mplot(\u001b[43mtraining_loss_history\u001b[49m, label \u001b[38;5;241m=\u001b[39m \u001b[38;5;124m'\u001b[39m\u001b[38;5;124mTraining Loss\u001b[39m\u001b[38;5;124m'\u001b[39m)\n\u001b[0;32m      7\u001b[0m plt\u001b[38;5;241m.\u001b[39mplot(validation_loss_history, label \u001b[38;5;241m=\u001b[39m \u001b[38;5;124m'\u001b[39m\u001b[38;5;124mValidation Loss\u001b[39m\u001b[38;5;124m'\u001b[39m)\n\u001b[0;32m      8\u001b[0m plt\u001b[38;5;241m.\u001b[39mxlabel(\u001b[38;5;124m'\u001b[39m\u001b[38;5;124mEpochs\u001b[39m\u001b[38;5;124m'\u001b[39m)\n",
      "\u001b[1;31mNameError\u001b[0m: name 'training_loss_history' is not defined"
     ]
    }
   ],
   "source": [
    "torch.save(model, 'model_E3-2.pth')\n",
    "\n",
    "import matplotlib.pyplot as plt\n",
    "\n",
    "\n",
    "plt.plot(training_loss_history, label = 'Training Loss')\n",
    "plt.plot(validation_loss_history, label = 'Validation Loss')\n",
    "plt.xlabel('Epochs')\n",
    "plt.ylabel('Loss')\n",
    "plt.ylim(0, None)\n",
    "plt.title('Training and Validation Loss for E3-2 Model')\n",
    "plt.legend()\n",
    "plt.show()\n"
   ]
  },
  {
   "cell_type": "code",
   "execution_count": null,
   "metadata": {},
   "outputs": [],
   "source": [
    "import pickle\n",
    "\n",
    "pickle.dump(training_loss_history, open('training_loss_history_E3-2.pkl', 'wb'))\n",
    "pickle.dump(validation_loss_history, open('validation_loss_history_E3-2.pkl', 'wb'))"
   ]
  },
  {
   "cell_type": "code",
   "execution_count": null,
   "metadata": {},
   "outputs": [],
   "source": [
    "model_loaded = torch.load('model_E3-2.pth')"
   ]
  },
  {
   "cell_type": "code",
   "execution_count": null,
   "metadata": {},
   "outputs": [],
   "source": [
    "board = chess.Board()"
   ]
  },
  {
   "cell_type": "code",
   "execution_count": null,
   "metadata": {},
   "outputs": [],
   "source": [
    "move = lib.predict(model_loaded, board.fen())\n",
    "print(move)\n",
    "board"
   ]
  },
  {
   "cell_type": "code",
   "execution_count": null,
   "metadata": {},
   "outputs": [],
   "source": [
    "board.push_uci(move)\n",
    "board"
   ]
  },
  {
   "cell_type": "code",
   "execution_count": null,
   "metadata": {},
   "outputs": [],
   "source": [
    "move = lib.predict(model_loaded, board.fen())"
   ]
  },
  {
   "cell_type": "code",
   "execution_count": null,
   "metadata": {},
   "outputs": [],
   "source": [
    "move = 'e4f6'"
   ]
  },
  {
   "cell_type": "code",
   "execution_count": null,
   "metadata": {},
   "outputs": [],
   "source": [
    "# TODO : make prediction function\n",
    "# TODO : speed up"
   ]
  }
 ],
 "metadata": {
  "kernelspec": {
   "display_name": ".venv",
   "language": "python",
   "name": "python3"
  },
  "language_info": {
   "codemirror_mode": {
    "name": "ipython",
    "version": 3
   },
   "file_extension": ".py",
   "mimetype": "text/x-python",
   "name": "python",
   "nbconvert_exporter": "python",
   "pygments_lexer": "ipython3",
   "version": "3.11.5"
  }
 },
 "nbformat": 4,
 "nbformat_minor": 2
}

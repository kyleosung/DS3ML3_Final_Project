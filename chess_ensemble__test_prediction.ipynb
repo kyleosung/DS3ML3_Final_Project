{
 "cells": [
  {
   "cell_type": "code",
   "execution_count": null,
   "metadata": {},
   "outputs": [],
   "source": [
    "import chess_SL_E8_lib_ensemble as libEns\n",
    "import chess_SK_lib as SKlib\n",
    "import chess_SL_E8_lib as lib\n",
    "\n",
    "import chess\n",
    "import torch\n",
    "\n",
    "import joblib\n",
    "from sklearn.neighbors import KNeighborsRegressor"
   ]
  },
  {
   "cell_type": "code",
   "execution_count": null,
   "metadata": {},
   "outputs": [],
   "source": [
    "## LOAD TORCH MODEL\n",
    "\n",
    "device = torch.device('cuda' if torch.cuda.is_available() else 'cpu')\n",
    "\n",
    "board = chess.Board()\n",
    "\n",
    "modelDL = torch.load('../models_EL/model_E7-2.pth', map_location=device)"
   ]
  },
  {
   "cell_type": "code",
   "execution_count": null,
   "metadata": {},
   "outputs": [],
   "source": [
    "## LOAD SKLEARN MODELS\n",
    "\n",
    "models_list = []\n",
    "\n",
    "for i, model_name in enumerate(['RF_1', 'SVR_1', 'LR_1']): #find way to add KNN\n",
    "    models_list.append(joblib.load(f'models_SK/model_{model_name}.joblib'))\n",
    "\n",
    "X_train, X_test, y_train, y_test = SKlib.load_data_XY_a_to_d()\n",
    "\n",
    "knn2 = KNeighborsRegressor(n_neighbors=2)\n",
    "knn2.fit(X_train, y_train)\n",
    "\n",
    "models_list.append(knn2)"
   ]
  },
  {
   "cell_type": "code",
   "execution_count": null,
   "metadata": {},
   "outputs": [],
   "source": [
    "libEns.__test_ensemble_model(modelDL, models_list)"
   ]
  }
 ],
 "metadata": {
  "kernelspec": {
   "display_name": ".venv",
   "language": "python",
   "name": "python3"
  },
  "language_info": {
   "name": "python",
   "version": "3.11.5"
  }
 },
 "nbformat": 4,
 "nbformat_minor": 2
}

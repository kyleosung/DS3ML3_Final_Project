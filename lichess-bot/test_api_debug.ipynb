{
 "cells": [
  {
   "cell_type": "code",
   "execution_count": 7,
   "metadata": {},
   "outputs": [],
   "source": [
    "from __future__ import annotations\n",
    "import chess\n",
    "from chess.engine import PlayResult, Limit\n",
    "from chess import Move\n",
    "import random\n",
    "from lib.engine_wrapper import MinimalEngine, MOVE\n",
    "from typing import Any\n",
    "import logging\n",
    "\n",
    "\n",
    "# Use this logger variable to print messages to the console or log files.\n",
    "# logger.info(\"message\") will always print \"message\" to the console or log file.\n",
    "# logger.debug(\"message\") will only print \"message\" if verbose logging is enabled.\n",
    "logger = logging.getLogger(__name__)\n",
    "\n",
    "import sys\n",
    "sys.path.insert(1, '..')\n",
    "\n",
    "import chess_SL_E5_lib as lib\n",
    "import torch\n",
    "\n",
    "device = torch.device('cuda' if torch.cuda.is_available() else 'cpu')\n",
    "\n",
    "\n",
    "model_loaded = torch.load('../models_EL/model_E5-1.pth', map_location=device)\n",
    "\n",
    "\n",
    "\n",
    "def search(board: chess.Board, *args: Any, **xargs: Any) -> PlayResult:\n",
    "\n",
    "    global model_loaded\n",
    "\n",
    "    prediction = lib.predict(model_loaded, board.fen())\n",
    "    \n",
    "    # move = Move.from_uci(prediction)\n",
    "\n",
    "    return PlayResult(prediction, None)"
   ]
  },
  {
   "cell_type": "code",
   "execution_count": 8,
   "metadata": {},
   "outputs": [
    {
     "data": {
      "text/plain": [
       "<PlayResult at 0x20c768af710 (move=e2e4, ponder=None, info={}, draw_offered=False, resigned=False)>"
      ]
     },
     "execution_count": 8,
     "metadata": {},
     "output_type": "execute_result"
    }
   ],
   "source": [
    "board = chess.Board()\n",
    "\n",
    "search(board, None)"
   ]
  }
 ],
 "metadata": {
  "kernelspec": {
   "display_name": ".venv",
   "language": "python",
   "name": "python3"
  },
  "language_info": {
   "codemirror_mode": {
    "name": "ipython",
    "version": 3
   },
   "file_extension": ".py",
   "mimetype": "text/x-python",
   "name": "python",
   "nbconvert_exporter": "python",
   "pygments_lexer": "ipython3",
   "version": "3.11.5"
  }
 },
 "nbformat": 4,
 "nbformat_minor": 2
}

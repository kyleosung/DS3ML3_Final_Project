{
 "cells": [
  {
   "cell_type": "code",
   "execution_count": 12,
   "metadata": {},
   "outputs": [],
   "source": [
    "\n",
    "import chess\n",
    "from lib.engine_wrapper import MinimalEngine, MOVE\n",
    "import chess_SL_E3_lib as lib\n",
    "import torch\n",
    "from typing import Any\n",
    "from chess.engine import PlayResult, Limit\n",
    "from chess import Move\n",
    "\n",
    "model_loaded = torch.load('models/model_E3-1.pth', map_location=torch.device('cpu'))\n",
    "\n",
    "\n",
    "class ExampleEngine(MinimalEngine):\n",
    "    \"\"\"An example engine that all homemade engines inherit.\"\"\"\n",
    "\n",
    "    def search(self, board: chess.Board, *args: Any, **xargs: Any) -> PlayResult:\n",
    "\n",
    "        global model_loaded\n",
    "\n",
    "        prediction = lib.predict(model_loaded, board.fen())\n",
    "\n",
    "        move = Move(from_square = prediction[:2], to_square = prediction[2:])\n",
    "\n",
    "        return PlayResult(move, None)"
   ]
  },
  {
   "cell_type": "code",
   "execution_count": 21,
   "metadata": {},
   "outputs": [],
   "source": [
    "board = chess.Board()\n",
    "def search(board: chess.Board, *args: Any, **xargs: Any) -> PlayResult:\n",
    "\n",
    "    global model_loaded\n",
    "\n",
    "    prediction = lib.predict(model_loaded, board.fen())\n",
    "    \n",
    "    move = Move.from_uci(prediction)\n",
    "\n",
    "    return PlayResult(move, None)"
   ]
  },
  {
   "cell_type": "code",
   "execution_count": 22,
   "metadata": {},
   "outputs": [
    {
     "data": {
      "text/plain": [
       "<PlayResult at 0x1f850d17f10 (move=d2d4, ponder=None, info={}, draw_offered=False, resigned=False)>"
      ]
     },
     "execution_count": 22,
     "metadata": {},
     "output_type": "execute_result"
    }
   ],
   "source": [
    "search(board)"
   ]
  }
 ],
 "metadata": {
  "kernelspec": {
   "display_name": ".venv",
   "language": "python",
   "name": "python3"
  },
  "language_info": {
   "codemirror_mode": {
    "name": "ipython",
    "version": 3
   },
   "file_extension": ".py",
   "mimetype": "text/x-python",
   "name": "python",
   "nbconvert_exporter": "python",
   "pygments_lexer": "ipython3",
   "version": "3.11.5"
  }
 },
 "nbformat": 4,
 "nbformat_minor": 2
}

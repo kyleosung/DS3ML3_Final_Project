{
 "cells": [
  {
   "cell_type": "code",
   "execution_count": null,
   "metadata": {},
   "outputs": [],
   "source": [
    "import chess_SK_lib as SKlib"
   ]
  },
  {
   "cell_type": "code",
   "execution_count": null,
   "metadata": {},
   "outputs": [],
   "source": [
    "X_train, X_test, y_train, y_test = SKlib.load_data_XY_large()"
   ]
  },
  {
   "cell_type": "code",
   "execution_count": null,
   "metadata": {},
   "outputs": [],
   "source": [
    "## Determine best K\n",
    "\n",
    "from sklearn.neighbors import KNeighborsRegressor\n",
    "from tqdm import tqdm\n",
    "\n",
    "K_errs = []\n",
    "\n",
    "K_range = range(1, 25+1)\n",
    "\n",
    "for K in tqdm(K_range):\n",
    "    knn_K = KNeighborsRegressor(n_neighbors = K, weights = 'distance')\n",
    "    knn_K.fit(X_train, y_train)\n",
    "\n",
    "    y_pred_k = knn_K.predict(X_test)\n",
    "    err = np.sum(np.abs(y_pred_k - y_test)) / len(y_test)\n",
    "\n",
    "    K_errs.append(errs)\n",
    "    print(f\"For k={K}, MAD: {err}\")"
   ]
  },
  {
   "cell_type": "code",
   "execution_count": null,
   "metadata": {},
   "outputs": [],
   "source": [
    "import matplotlib.pyplot as plt\n",
    "\n",
    "plt.figure(figsize=(6,3))\n",
    "plt.plot(K_range, K_errs)\n",
    "plt.title(f'Mean Absolute Deviations in KNN')\n",
    "plt.xlabel('K')\n",
    "plt.ylabel('MAD')\n",
    "plt.show()"
   ]
  },
  {
   "cell_type": "markdown",
   "metadata": {},
   "source": [
    "The best value is $K=2$."
   ]
  },
  {
   "cell_type": "code",
   "execution_count": null,
   "metadata": {},
   "outputs": [],
   "source": [
    "knn2 = KNeighborsRegressor(n_neighbors=2)\n",
    "knn2.fit(X_train, y_train)"
   ]
  },
  {
   "cell_type": "code",
   "execution_count": null,
   "metadata": {},
   "outputs": [],
   "source": [
    "y_pred = knn2.predict(X_test)\n",
    "error = SKlib.MAD(y_pred, y_test)\n",
    "error"
   ]
  },
  {
   "cell_type": "code",
   "execution_count": null,
   "metadata": {},
   "outputs": [],
   "source": [
    "MODEL_TYPE = 'KNN'\n",
    "MODEL_VERSION = SKlib.get_current_version(MODEL_TYPE)"
   ]
  },
  {
   "cell_type": "code",
   "execution_count": null,
   "metadata": {},
   "outputs": [],
   "source": [
    "import joblib\n",
    "\n",
    "file = f'./joblib/model_{MODEL_TYPE}_{MODEL_VERSION}.joblib'\n",
    "\n",
    "joblib.dump(model, file)"
   ]
  },
  {
   "cell_type": "code",
   "execution_count": null,
   "metadata": {},
   "outputs": [],
   "source": [
    "model_loaded = joblib.load(file)"
   ]
  },
  {
   "cell_type": "code",
   "execution_count": null,
   "metadata": {},
   "outputs": [],
   "source": [
    "SKlib.test_game_model(model_loaded)"
   ]
  }
 ],
 "metadata": {
  "language_info": {
   "name": "python"
  }
 },
 "nbformat": 4,
 "nbformat_minor": 2
}

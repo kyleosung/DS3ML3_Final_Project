{
 "cells": [
  {
   "cell_type": "code",
   "execution_count": null,
   "metadata": {},
   "outputs": [],
   "source": [
    "import sklearn\n",
    "from sklearn.ensemble import RandomForestRegressor\n",
    "from sklearn.model_selection import train_test_split\n",
    "\n",
    "import numpy as np\n",
    "import matplotlib.pyplot as plt\n",
    "import pandas as pd\n",
    "\n",
    "import chess\n",
    "\n",
    "import glob"
   ]
  },
  {
   "cell_type": "code",
   "execution_count": null,
   "metadata": {},
   "outputs": [],
   "source": [
    "def get_current_version():\n",
    "    from pathlib import Path\n",
    "    import pickle\n",
    "\n",
    "    model_file_path = 'model_RF_1.pkl'\n",
    "    counter = 1\n",
    "\n",
    "    while Path(model_file_path).is_file(): # ensure that no files are overwritten\n",
    "        counter += 1\n",
    "        model_file_path = f'model_RF_{counter}.pkl'\n",
    "    \n",
    "    return counter\n",
    "\n",
    "MODEL_NUMBER = get_current_version()\n",
    "MODEL_NUMBER"
   ]
  },
  {
   "cell_type": "code",
   "execution_count": null,
   "metadata": {},
   "outputs": [],
   "source": [
    "path = \"../Data/DataTrain\"\n",
    "\n",
    "letters = 'abcdefghijklm'\n",
    "csv_files = []\n",
    "\n",
    "for let in letters:\n",
    "    csv_files.extend(glob.glob(f'{path}/Chess_Jan_{let}*'))"
   ]
  },
  {
   "cell_type": "code",
   "execution_count": null,
   "metadata": {},
   "outputs": [],
   "source": [
    "df_large = pd.concat(\n",
    "    (pd.read_csv(f,\n",
    "                 usecols=['board', 'cp', 'white_active'],#, 'white_elo', 'black_elo'], \n",
    "                 dtype = {'white_elo': 'uint16', 'black_elo': 'uint16', 'white_active': 'bool', 'cp': 'object'},\n",
    "                ) for f in csv_files), \n",
    "    ignore_index = True,\n",
    ")"
   ]
  },
  {
   "cell_type": "code",
   "execution_count": null,
   "metadata": {},
   "outputs": [],
   "source": [
    "import chess_SK_lib as lib_SK\n",
    "\n",
    "X, y = lib_SK.preprocess_XY(df_large['board'], pd.to_numeric(df_large['cp'], errors='coerce'), df_large['white_active'])"
   ]
  },
  {
   "cell_type": "code",
   "execution_count": null,
   "metadata": {},
   "outputs": [],
   "source": [
    "X.shape"
   ]
  },
  {
   "cell_type": "code",
   "execution_count": null,
   "metadata": {},
   "outputs": [],
   "source": [
    "import joblib\n",
    "\n",
    "joblib.dump(X, 'data_X_large.joblib', compress = 3)\n",
    "joblib.dump(y, 'data_y_large.joblib', compress = 3)"
   ]
  }
 ],
 "metadata": {
  "language_info": {
   "name": "python"
  }
 },
 "nbformat": 4,
 "nbformat_minor": 2
}

{
 "cells": [
  {
   "cell_type": "markdown",
   "metadata": {},
   "source": [
    "This is the main file to toy around with model training and selection!"
   ]
  },
  {
   "cell_type": "markdown",
   "metadata": {},
   "source": [
    "# Imports"
   ]
  },
  {
   "cell_type": "code",
   "execution_count": null,
   "metadata": {},
   "outputs": [],
   "source": [
    "import glob\n",
    "import chess_SL_E8_lib as lib\n",
    "import torch\n",
    "import torch.nn as nn\n",
    "import torch.optim as optim\n",
    "from torch.utils.data import DataLoader\n",
    "import chess\n",
    "import numpy as np\n",
    "\n",
    "# Set these parameters according to what you would want the model to be named\n",
    "MODEL_NUM = 'TEST'\n",
    "MODEL_VERSION = 'TEST1'"
   ]
  },
  {
   "cell_type": "markdown",
   "metadata": {},
   "source": [
    "#### Note to Grader: Please install [CUDA Toolkit](https://developer.nvidia.com/cuda-toolkit) to train and predict on GPU"
   ]
  },
  {
   "cell_type": "code",
   "execution_count": null,
   "metadata": {},
   "outputs": [],
   "source": [
    "device = torch.device('cuda' if torch.cuda.is_available() else 'cpu')"
   ]
  },
  {
   "cell_type": "markdown",
   "metadata": {},
   "source": [
    "# 1. Training (Optional. Skip to Section 2 - Prediction)."
   ]
  },
  {
   "cell_type": "markdown",
   "metadata": {},
   "source": [
    "Before training, the dataset must be parsed and preprocessed via bash scripts. Please see the GitHub Repo's [README](https://github.com/kyleosung/DS3ML3_Final_Project/blob/main/README.md) for more instructions."
   ]
  },
  {
   "cell_type": "markdown",
   "metadata": {},
   "source": [
    "### Create a Subset of the Data"
   ]
  },
  {
   "cell_type": "code",
   "execution_count": null,
   "metadata": {},
   "outputs": [],
   "source": [
    "path = \"../Data/DataTrain\" # Change this to the path you installed the data\n",
    "\n",
    "# Choose the files you want to train on and validate on\n",
    "# Currently, we are training on all files beginning with y or z and\n",
    "# and validating on all files beginning with x\n",
    "letters_train = 'abcdefghijklmnop'\n",
    "letters_valid = 'qrstuvwxyz'\n",
    "\n",
    "csv_files_train = []\n",
    "csv_files_valid = []\n",
    "\n",
    "for let in letters_train:\n",
    "    csv_files_train.extend(glob.glob(f'{path}/Chess_Jan_{let}*'))\n",
    "\n",
    "for let_ in letters_valid:\n",
    "    csv_files_valid.extend(glob.glob(f'{path}/Chess_Jan_{let_}*'))"
   ]
  },
  {
   "cell_type": "markdown",
   "metadata": {},
   "source": [
    "#### Training Loop (See [chess_SL_E8.py](https://github.com/kyleosung/DS3ML3_Final_Project/blob/main/chess_SL_E8_lib.py) for implementation!)"
   ]
  },
  {
   "cell_type": "code",
   "execution_count": null,
   "metadata": {},
   "outputs": [],
   "source": [
    "# Create a dataset\n",
    "dataset1 = lib.ChessIterableDataset(csv_files_train)\n",
    "dataset2 = lib.ChessIterableDataset(csv_files_valid)\n",
    "\n",
    "# Create a data loader\n",
    "train_data_loader = DataLoader(dataset1, batch_size = 15000)\n",
    "val_data_loader = DataLoader(dataset2, batch_size = 15000)\n",
    "\n",
    "# Create a model\n",
    "model = lib.EvalNet()\n",
    "model = model.to(device)\n",
    "\n",
    "criterion = nn.L1Loss()\n",
    "optimizer = optim.Adam(model.parameters(), lr=0.0065)\n",
    "\n",
    "# Train the model\n",
    "train_loss_hist, valid_loss_hist = lib.train(model, train_data_loader, val_data_loader, criterion, optimizer, num_epochs = 30)"
   ]
  },
  {
   "cell_type": "markdown",
   "metadata": {},
   "source": [
    "#### Plot Training and Validation Loss"
   ]
  },
  {
   "cell_type": "code",
   "execution_count": null,
   "metadata": {},
   "outputs": [],
   "source": [
    "import matplotlib.pyplot as plt\n",
    "\n",
    "plt.figure(figsize=(8, 4))\n",
    "plt.plot(train_loss_hist, label = 'Training Loss')\n",
    "plt.plot(valid_loss_hist, label = 'Validation Loss')\n",
    "plt.xlabel('Epochs')\n",
    "plt.ylabel('Loss')\n",
    "# plt.ylim(0, None)\n",
    "plt.title(f'Loss for E{MODEL_NUM}-{MODEL_VERSION} Model')\n",
    "plt.legend()\n",
    "plt.savefig(f'Loss_E{MODEL_NUM}-{MODEL_VERSION}.png')\n",
    "plt.show()\n"
   ]
  },
  {
   "cell_type": "markdown",
   "metadata": {},
   "source": [
    "#### Save model and histories"
   ]
  },
  {
   "cell_type": "code",
   "execution_count": null,
   "metadata": {},
   "outputs": [],
   "source": [
    "torch.save(model, f'model_E{MODEL_NUM}-{MODEL_VERSION}.pth')"
   ]
  },
  {
   "cell_type": "code",
   "execution_count": null,
   "metadata": {},
   "outputs": [],
   "source": [
    "import pickle\n",
    "\n",
    "pickle.dump(train_loss_hist, open(f'pickle/training_loss_history_E{MODEL_NUM}-{MODEL_VERSION}.pkl', 'wb'))\n",
    "pickle.dump(valid_loss_hist, open(f'pickle/validation_loss_history_E{MODEL_NUM}-{MODEL_VERSION}.pkl', 'wb'))"
   ]
  },
  {
   "cell_type": "markdown",
   "metadata": {},
   "source": [
    "# 2. Prediction"
   ]
  },
  {
   "cell_type": "code",
   "execution_count": null,
   "metadata": {},
   "outputs": [],
   "source": [
    "import chess_SL_E8_lib_ensemble as libEns\n",
    "import chess_SK_lib as SKlib\n",
    "import chess_SL_E8_lib as lib\n",
    "\n",
    "import chess\n",
    "import torch\n",
    "\n",
    "import joblib\n",
    "from sklearn.neighbors import KNeighborsRegressor"
   ]
  },
  {
   "cell_type": "markdown",
   "metadata": {},
   "source": [
    "Choose Torch model to load (only 1, max)\n",
    "\n",
    "**Important Note**: The Torch model loaded will change the parameters of the function and might necessitate slight modification to the code. Please change the imported library to the appropriate library (i.e. if you choose to load in an E7 model, import the E7 library). Please also note that only the E8 model currently is compatible with the ensemble learning with SKLearn Models."
   ]
  },
  {
   "cell_type": "code",
   "execution_count": null,
   "metadata": {},
   "outputs": [],
   "source": [
    "## LOAD TORCH MODEL\n",
    "\n",
    "device = torch.device('cuda' if torch.cuda.is_available() else 'cpu')\n",
    "\n",
    "board = chess.Board()\n",
    "\n",
    "modelDL = torch.load('../models_EL/model_E7-2.pth', map_location=device)"
   ]
  },
  {
   "cell_type": "markdown",
   "metadata": {},
   "source": [
    "Choose SKLearn Models to Load\n",
    "\n",
    "**Important Note:** There is not enough RAM or storage on most computers to store the KNN model (as it would need to store the fitted data for the locations of each of the points). Thus, please instantiate and fit a new KNN model as desired."
   ]
  },
  {
   "cell_type": "code",
   "execution_count": null,
   "metadata": {},
   "outputs": [],
   "source": [
    "## LOAD SKLEARN MODELS\n",
    "\n",
    "models_to_load = ['RF_1', 'SVR_1', 'LR_1'] # do not put KNN her\n",
    "models_list = []\n",
    "\n",
    "for i, model_name in enumerate(): #find way to add KNN\n",
    "    models_list.append(joblib.load(f'models_SK/model_{model_name}.joblib'))\n",
    "\n",
    "X_train, X_test, y_train, y_test = SKlib.load_data_XY_a_to_d()\n",
    "\n",
    "## Use this to add KNN\n",
    "knn2 = KNeighborsRegressor(n_neighbors=2)\n",
    "knn2.fit(X_train, y_train)\n",
    "models_list.append(knn2)"
   ]
  },
  {
   "cell_type": "code",
   "execution_count": null,
   "metadata": {},
   "outputs": [],
   "source": [
    "libEns.__test_ensemble_model(modelDL, models_list)"
   ]
  }
 ],
 "metadata": {
  "kernelspec": {
   "display_name": ".venv",
   "language": "python",
   "name": "python3"
  },
  "language_info": {
   "name": "python",
   "version": "3.11.5"
  }
 },
 "nbformat": 4,
 "nbformat_minor": 2
}
